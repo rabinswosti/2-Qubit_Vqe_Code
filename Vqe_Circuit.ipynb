{
 "cells": [
  {
   "cell_type": "code",
   "execution_count": 1,
   "metadata": {},
   "outputs": [],
   "source": [
    "from qiskit import *\n",
    "import numpy as np\n",
    "from colorama import Fore, Back, Style \n",
    "from qiskit.aqua.components.optimizers import COBYLA\n",
    "import random as rand"
   ]
  },
  {
   "cell_type": "code",
   "execution_count": 2,
   "metadata": {},
   "outputs": [],
   "source": [
    "def coeff(N1,N2):\n",
    "\treturn (np.dot(N1.conjugate().transpose(),N2)).trace()*0.25"
   ]
  },
  {
   "cell_type": "code",
   "execution_count": 3,
   "metadata": {},
   "outputs": [],
   "source": [
    "def prepare_ansatz(parameter):\n",
    "    \n",
    "    qr=QuantumRegister(2)\n",
    "    cr=ClassicalRegister(2)\n",
    "    circuit=QuantumCircuit(qr,cr)\n",
    "    \n",
    "    #Preparing general parameterized ansatz for any two-qubit Hamiltonian\n",
    "    \n",
    "    circuit.u3(parameter[0],parameter[1],parameter[2],qr[0])\n",
    "    circuit.u3(parameter[3],parameter[4],parameter[5],qr[1])\n",
    "\n",
    "    circuit.cx(qr[1],qr[0])\n",
    "\n",
    "    circuit.u3(parameter[6],parameter[7],parameter[8],qr[0])\n",
    "    circuit.u3(parameter[9],parameter[10],parameter[11],qr[1])\n",
    "\n",
    "    circuit.cx(qr[0],qr[1])\n",
    "\n",
    "    circuit.u3(parameter[12],parameter[13],parameter[14],qr[0])\n",
    "    circuit.u3(parameter[15],parameter[16],parameter[17],qr[1])\n",
    "\n",
    "    circuit.cx(qr[1],qr[0])\n",
    "\n",
    "    circuit.u3(parameter[18],parameter[19],parameter[20],qr[0])\n",
    "    circuit.u3(parameter[21],parameter[22],parameter[23],qr[1])\n",
    "\n",
    "    return circuit\n"
   ]
  },
  {
   "cell_type": "code",
   "execution_count": 4,
   "metadata": {},
   "outputs": [],
   "source": [
    "def vqe_circuit(term, parameter):\n",
    "\tcircuit=prepare_ansatz(parameter)\n",
    "\tqr=circuit.qregs[0]\n",
    "\tcr=circuit.cregs[0]\n",
    "\tif term=='XX':\n",
    "\t\tcircuit.h(qr[0])\n",
    "\t\tcircuit.h(qr[1])\t\t\n",
    "\telif term=='YY':\n",
    "\t\tcircuit.u2(0,np.pi/2,qr[0])\n",
    "\t\tcircuit.u2(0,np.pi/2,qr[1])\n",
    "\telif term=='IX':\n",
    "\t\tcircuit.h(qr[1])\t\t\n",
    "\telif term=='IY':\n",
    "\t\tcircuit.u2(0,np.pi/2,qr[1])\t\n",
    "\telif term== 'XI':\n",
    "\t\tcircuit.h(qr[0])\t\n",
    "\telif term=='YI':\n",
    "\t\tcircuit.u2(0,np.pi/2,qr[0])\n",
    "\telif term=='XY':\n",
    "\t\tcircuit.h(qr[0])\n",
    "\t\tcircuit.u2(0,np.pi/2,qr[1])\n",
    "\telif term=='XZ':\n",
    "\t\tcircuit.h(qr[0])\n",
    "\telif term=='YX':\n",
    "\t\tcircuit.u2(0,np.pi/2,qr[0])\n",
    "\t\tcircuit.h(qr[1])\n",
    "\telif term=='YZ':\n",
    "\t\tcircuit.u2(0,np.pi/2,qr[0])\n",
    "\telif term=='YY':\n",
    "\t\tcircuit.u2(0,np.pi/2,qr[0])\n",
    "\t\tcircuit.u2(0,np.pi/2,qr[1])\n",
    "\telif term=='ZZ' or 'IZ' or 'ZI'or 'II':\n",
    "\t\tprint(\" \")\n",
    "\telse:\n",
    "\t\traise ValueError(\"Wrong input for Pauli decomposition\")\n",
    "\tcircuit.measure(qr,cr)\n",
    "\treturn circuit #returns final variational form of quantum circuit for a Pauli term"
   ]
  },
  {
   "cell_type": "code",
   "execution_count": 5,
   "metadata": {},
   "outputs": [],
   "source": [
    "def term_expectation(term, circuit):\n",
    "    shots=10000\n",
    "    simulator=Aer.get_backend('qasm_simulator')\n",
    "    result=execute(circuit,backend=simulator,shots=10000).result()\n",
    "    counts=result.get_counts()\n",
    "    if term in ['IX','IY','IZ']:\n",
    "        bitstring_eigenvalue={'00':+1,'01':-1,'10':+1,'11':-1}\n",
    "    elif term in ['XI','YI','ZI']:\n",
    "        bitstring_eigenvalue={'00':+1,'01':+1,'10':-1,'11':-1}\n",
    "    elif term in ['II']:\n",
    "        bitstring_eigenvalue={'00':+1,'01':+1,'10':+1,'11':+1}\n",
    "    else:\n",
    "        bitstring_eigenvalue={'00':+1,'01':-1,'10':-1,'11':+1}\n",
    "    expectation=0\n",
    "    for bitstring in counts:\n",
    "        expectation+=(bitstring_eigenvalue[bitstring]*counts[bitstring])/shots\n",
    "    return expectation #returns expectation for a Pauli term\n"
   ]
  },
  {
   "cell_type": "code",
   "execution_count": 6,
   "metadata": {},
   "outputs": [],
   "source": [
    "def objective_function(parameter):\n",
    "    global counter\n",
    "    counter+=1\n",
    "    new_energy=0.0\n",
    "    for term in pauli_dict:\n",
    "        circuit=vqe_circuit(term,parameter)\n",
    "        component=pauli_dict[term]*term_expectation(term,circuit)\n",
    "        new_energy+=component \n",
    "    print(Fore.GREEN)\n",
    "    print(\"Iteration \",counter,\" :\",new_energy)\n",
    "    print(Style.RESET_ALL)\n",
    "    return new_energy"
   ]
  },
  {
   "cell_type": "code",
   "execution_count": null,
   "metadata": {},
   "outputs": [],
   "source": [
    "H=np.array([[1,0,0,0],[0,0,-1,0],[0,-1,0,0],[0,0,0,1]])\n",
    "I= np.array([[1,0],[0,1]])\n",
    "X=np.array([[0,1],[1,0]])\n",
    "Y=np.array([[0,complex(0,-1)],[complex(0,1),0]])\n",
    "Z=np.array([[1,0],[0,-1]])\n",
    "matrix_label=['I','X','Y','Z']\n",
    "matrix_list=[I,X,Y,Z]\n",
    "pauli_dict={}\n",
    "counter=0\n",
    "print (\"The Pauli decomposition of the given Hamiltonian \\n\\n\",H, \"is:\\n\")\n",
    "for i in range(4):\n",
    "    for j in range(4):\n",
    "        matrix_name=matrix_label[i]+matrix_label[j]\n",
    "        tensor=np.kron(matrix_list[i],matrix_list[j])\n",
    "        coefficient=coeff(tensor,H)\n",
    "        if coefficient!=0.0:\n",
    "            pauli_dict[matrix_name]=coefficient\t\n",
    "            print(matrix_name,\"  \",coefficient)\n",
    "            \n",
    "\n",
    "#Intializing COBYLA with maximum iteration 500 and tolerance 1e-4\n",
    "optimizer = COBYLA(maxiter=500, tol=0.0001)\n",
    "\n",
    "#Running COBYLA optimizer\n",
    "parameter = np.random.rand(24)\n",
    "output = optimizer.optimize(num_vars=24, objective_function=objective_function, initial_point=parameter)\n",
    "\n",
    "#Calculating the lowest energy with the final parameters output[0]\n",
    "lowest_energy=objective_function(output[0])\n",
    "\n",
    "\n",
    "print(\"The lowest energy from VQE is\", lowest_energy)\n",
    "print(\"Parameters Found:\", output[0])\n",
    "            \n",
    "            \n",
    "            \n",
    "            \n",
    "            \n",
    "            \n",
    "\n",
    "\n",
    "\n"
   ]
  },
  {
   "cell_type": "code",
   "execution_count": null,
   "metadata": {},
   "outputs": [],
   "source": []
  },
  {
   "cell_type": "code",
   "execution_count": null,
   "metadata": {},
   "outputs": [],
   "source": []
  },
  {
   "cell_type": "code",
   "execution_count": null,
   "metadata": {},
   "outputs": [],
   "source": []
  },
  {
   "cell_type": "code",
   "execution_count": null,
   "metadata": {},
   "outputs": [],
   "source": []
  },
  {
   "cell_type": "code",
   "execution_count": null,
   "metadata": {},
   "outputs": [],
   "source": []
  },
  {
   "cell_type": "code",
   "execution_count": null,
   "metadata": {},
   "outputs": [],
   "source": [
    "\n"
   ]
  },
  {
   "cell_type": "code",
   "execution_count": null,
   "metadata": {},
   "outputs": [],
   "source": []
  },
  {
   "cell_type": "code",
   "execution_count": null,
   "metadata": {},
   "outputs": [],
   "source": []
  }
 ],
 "metadata": {
  "kernelspec": {
   "display_name": "Python 3",
   "language": "python",
   "name": "python3"
  },
  "language_info": {
   "codemirror_mode": {
    "name": "ipython",
    "version": 3
   },
   "file_extension": ".py",
   "mimetype": "text/x-python",
   "name": "python",
   "nbconvert_exporter": "python",
   "pygments_lexer": "ipython3",
   "version": "3.7.6"
  }
 },
 "nbformat": 4,
 "nbformat_minor": 4
}
